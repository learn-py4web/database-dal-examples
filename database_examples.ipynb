{
 "cells": [
  {
   "cell_type": "code",
   "execution_count": 38,
   "metadata": {},
   "outputs": [],
   "source": [
    "import pydal\n",
    "from pydal import DAL, Field\n",
    "import random"
   ]
  },
  {
   "cell_type": "code",
   "execution_count": 39,
   "metadata": {},
   "outputs": [],
   "source": [
    "db = DAL('sqlite://storage.sqlite')"
   ]
  },
  {
   "cell_type": "code",
   "execution_count": 40,
   "metadata": {},
   "outputs": [],
   "source": [
    "db.define_table('student',\n",
    "                Field('name', 'string'),\n",
    "                Field('email', 'string'),\n",
    "                Field('n_quarters', 'integer'),\n",
    "                Field('gpa', 'double'),\n",
    ")\n",
    "\n",
    "db.commit()"
   ]
  },
  {
   "cell_type": "code",
   "execution_count": 41,
   "metadata": {},
   "outputs": [],
   "source": [
    "def random_string(n):\n",
    "    return ''.join(random.choice('abcdefghijklmnopqrstuvwxyz') for _ in range(n))"
   ]
  },
  {
   "cell_type": "code",
   "execution_count": 42,
   "metadata": {},
   "outputs": [],
   "source": [
    "for _ in range(10):\n",
    "    db.student.insert(\n",
    "        name=random_string(10),\n",
    "        email=random_string(10) + '@example.com',\n",
    "        n_quarters=random.randint(1, 10),\n",
    "        gpa=random.uniform(0, 4),\n",
    "    )\n",
    "db.commit()"
   ]
  },
  {
   "cell_type": "code",
   "execution_count": 43,
   "metadata": {},
   "outputs": [],
   "source": [
    "rows = db(db.student.gpa > 2).select(db.student.email, db.student.gpa, orderby=~db.student.gpa)"
   ]
  },
  {
   "cell_type": "code",
   "execution_count": 44,
   "metadata": {},
   "outputs": [],
   "source": [
    "emails = [(row.email, row.gpa) for row in rows]"
   ]
  },
  {
   "cell_type": "code",
   "execution_count": 45,
   "metadata": {},
   "outputs": [
    {
     "data": {
      "text/plain": [
       "[('nyrzzjdmlg@example.com', 4.0),\n",
       " ('oqkpvvkeqc@example.com', 4.0),\n",
       " ('wcnbzrxteb@example.com', 3.942348967360528),\n",
       " ('wwfcnxtuyc@example.com', 3.696785507783898),\n",
       " ('kpyovyeile@example.com', 3.483794537696732),\n",
       " ('lfgtuieolq@example.com', 2.964234735220358),\n",
       " ('dolfwrfxlj@example.com', 2.5427531040570734)]"
      ]
     },
     "execution_count": 45,
     "metadata": {},
     "output_type": "execute_result"
    }
   ],
   "source": [
    "emails"
   ]
  },
  {
   "cell_type": "code",
   "execution_count": 46,
   "metadata": {},
   "outputs": [
    {
     "data": {
      "text/plain": [
       "<Row {'id': 9, 'name': 'yptzovbejf', 'email': 'oqkpvvkeqc@example.com', 'n_quarters': 1, 'gpa': 4}>"
      ]
     },
     "execution_count": 46,
     "metadata": {},
     "output_type": "execute_result"
    }
   ],
   "source": [
    "# Update method 1.\n",
    "student1 = 'oqkpvvkeqc@example.com'\n",
    "student2 = 'nyrzzjdmlg@example.com'\n",
    "\n",
    "s1 = db(db.student.email == student1).select().first()\n",
    "s1.gpa = 4\n",
    "s1.update_record()"
   ]
  },
  {
   "cell_type": "code",
   "execution_count": 47,
   "metadata": {},
   "outputs": [
    {
     "data": {
      "text/plain": [
       "1"
      ]
     },
     "execution_count": 47,
     "metadata": {},
     "output_type": "execute_result"
    }
   ],
   "source": [
    "db(db.student.email == student2).update(gpa=4)"
   ]
  },
  {
   "cell_type": "code",
   "execution_count": 48,
   "metadata": {},
   "outputs": [],
   "source": [
    "db(db.student.gpa < 2).delete()\n",
    "db.commit()"
   ]
  },
  {
   "cell_type": "code",
   "execution_count": null,
   "metadata": {},
   "outputs": [],
   "source": []
  },
  {
   "cell_type": "markdown",
   "metadata": {},
   "source": [
    "## Representing relations"
   ]
  },
  {
   "cell_type": "code",
   "execution_count": 49,
   "metadata": {},
   "outputs": [],
   "source": [
    "db.define_table('sighting',\n",
    "    Field('date_of_sighting', 'date'),\n",
    "    Field('location', 'string'),\n",
    "    Field('species', 'string'),\n",
    "    Field('count', 'integer'),\n",
    ")\n",
    "db.commit()"
   ]
  },
  {
   "cell_type": "code",
   "execution_count": 50,
   "metadata": {},
   "outputs": [],
   "source": [
    "db.sighting.insert(\n",
    "    date_of_sighting='2021-05-01',\n",
    "    location='Seattle',\n",
    "    species='Robin',\n",
    "    count=1,\n",
    ")\n",
    "db.sighting.insert(\n",
    "    date_of_sighting='2021-05-01',\n",
    "    location='Seattle',\n",
    "    species='Turkey',\n",
    "    count=10,\n",
    ")\n",
    "db.commit()"
   ]
  },
  {
   "cell_type": "markdown",
   "metadata": {},
   "source": [
    "## Birdwatching tables"
   ]
  },
  {
   "cell_type": "code",
   "execution_count": 58,
   "metadata": {},
   "outputs": [],
   "source": [
    "db_birds = DAL('sqlite://birds.sqlite')"
   ]
  },
  {
   "cell_type": "code",
   "execution_count": 59,
   "metadata": {},
   "outputs": [],
   "source": [
    "db_birds.define_table(\n",
    "    'outing', # This table has an id as its key. \n",
    "    Field('date_of_outing', 'date'),\n",
    "    Field('location', 'string'),\n",
    "    Field('weather', 'string'),\n",
    "    )\n",
    "\n",
    "db_birds.define_table(\n",
    "    'species',\n",
    "    Field('english_name', 'string'),\n",
    "    Field('latin_name', 'string'),\n",
    "    Field('is_threatened', 'boolean'),\n",
    ")\n",
    "\n",
    "db_birds.define_table(\n",
    "    'sighting',\n",
    "    Field('outing_id', 'reference outing'), # Called a \"foreign key\"\n",
    "    Field('species_id', 'reference species'),\n",
    "    Field('count', 'integer'),\n",
    "    )\n",
    "\n",
    "db_birds.commit()"
   ]
  },
  {
   "cell_type": "markdown",
   "metadata": {},
   "source": [
    "### Inserting a checklist"
   ]
  },
  {
   "cell_type": "code",
   "execution_count": 60,
   "metadata": {},
   "outputs": [],
   "source": [
    "import datetime"
   ]
  },
  {
   "cell_type": "code",
   "execution_count": 61,
   "metadata": {},
   "outputs": [],
   "source": [
    "date = datetime.date.today()\n",
    "location = 'Santa Cruz'\n",
    "weather = 'Sunny'\n",
    "what = [\n",
    "    ('Robin', 3),\n",
    "    ('Turkey', 2),\n",
    "    ('Sparrow', 1)\n",
    "]"
   ]
  },
  {
   "cell_type": "code",
   "execution_count": 62,
   "metadata": {},
   "outputs": [],
   "source": [
    "# First, insert the outing.\n",
    "outing_id = db_birds.outing.insert(\n",
    "    date_of_outing=date,\n",
    "    location=location,\n",
    "    weather=weather,\n",
    ")"
   ]
  },
  {
   "cell_type": "code",
   "execution_count": 64,
   "metadata": {},
   "outputs": [],
   "source": [
    "# Insert the sightings. \n",
    "for species_name, count in what:\n",
    "    # Gets the species id, inserting the species if needed.\n",
    "    species = db_birds(db_birds.species.english_name == species_name).select().first()\n",
    "    if species is None:\n",
    "        species_id = db_birds.species.insert(\n",
    "            english_name=species_name,\n",
    "            latin_name='Unknown',\n",
    "            is_threatened=False,\n",
    "        )\n",
    "    else:\n",
    "        species_id = species.id\n",
    "    # Insert the sighting.\n",
    "    db_birds.sighting.insert(\n",
    "        outing_id=outing_id,\n",
    "        species_id=species_id,\n",
    "        count=count,\n",
    "    )\n",
    "db_birds.commit()"
   ]
  },
  {
   "cell_type": "markdown",
   "metadata": {},
   "source": [
    "## Reading information across multiple tables"
   ]
  },
  {
   "cell_type": "code",
   "execution_count": 69,
   "metadata": {},
   "outputs": [],
   "source": [
    "rows = db_birds(\n",
    "    (db_birds.sighting.outing_id == db_birds.outing.id) & # join 1\n",
    "    (db_birds.sighting.species_id == db_birds.species.id) # join 2\n",
    ").select().as_list()\n"
   ]
  },
  {
   "cell_type": "code",
   "execution_count": 70,
   "metadata": {},
   "outputs": [
    {
     "data": {
      "text/plain": [
       "[{'sighting': {'id': 1, 'outing_id': 1, 'species_id': 1, 'count': 3},\n",
       "  'species': {'id': 1,\n",
       "   'english_name': 'Robin',\n",
       "   'latin_name': 'Unknown',\n",
       "   'is_threatened': False},\n",
       "  'outing': {'id': 1,\n",
       "   'date_of_outing': datetime.date(2024, 10, 28),\n",
       "   'location': 'Santa Cruz',\n",
       "   'weather': 'Sunny'}},\n",
       " {'sighting': {'id': 2, 'outing_id': 1, 'species_id': 2, 'count': 2},\n",
       "  'species': {'id': 2,\n",
       "   'english_name': 'Turkey',\n",
       "   'latin_name': 'Unknown',\n",
       "   'is_threatened': False},\n",
       "  'outing': {'id': 1,\n",
       "   'date_of_outing': datetime.date(2024, 10, 28),\n",
       "   'location': 'Santa Cruz',\n",
       "   'weather': 'Sunny'}},\n",
       " {'sighting': {'id': 3, 'outing_id': 1, 'species_id': 3, 'count': 1},\n",
       "  'species': {'id': 3,\n",
       "   'english_name': 'Sparrow',\n",
       "   'latin_name': 'Unknown',\n",
       "   'is_threatened': False},\n",
       "  'outing': {'id': 1,\n",
       "   'date_of_outing': datetime.date(2024, 10, 28),\n",
       "   'location': 'Santa Cruz',\n",
       "   'weather': 'Sunny'}}]"
      ]
     },
     "execution_count": 70,
     "metadata": {},
     "output_type": "execute_result"
    }
   ],
   "source": [
    "rows"
   ]
  },
  {
   "cell_type": "markdown",
   "metadata": {},
   "source": [
    "## Registrar"
   ]
  },
  {
   "cell_type": "code",
   "execution_count": 56,
   "metadata": {},
   "outputs": [],
   "source": [
    "dbr = DAL('sqlite://ucsc.sqlite')"
   ]
  },
  {
   "cell_type": "code",
   "execution_count": 57,
   "metadata": {},
   "outputs": [],
   "source": [
    "dbr.define_table(\n",
    "    'cat_course',\n",
    "    Field('number', 'string'),\n",
    "    Field('description', 'text'),\n",
    "    Field('course_name', 'string'),   \n",
    ")\n",
    "\n",
    "dbr.define_table(\n",
    "    'quarter',\n",
    "    Field('season', 'string'),\n",
    "    Field('year', 'integer'),\n",
    ")\n",
    "\n",
    "dbr.define_table(\n",
    "    'instructor',\n",
    "    Field('name', 'string'),\n",
    "    Field('email', 'string'),\n",
    ")\n",
    "\n",
    "dbr.define_table(\n",
    "    'offering',\n",
    "    Field('course_id', 'reference cat_course'),\n",
    "    Field('quarter_id', 'reference quarter'),\n",
    "    Field('instructor_id', 'reference instructor'),\n",
    "    Field('enrollment_limit', 'integer'),\n",
    ")\n",
    "\n",
    "dbr.define_table(\n",
    "    'student',\n",
    "    Field('name', 'string'),\n",
    "    Field('email', 'string'),\n",
    ")\n",
    "\n",
    "dbr.define_table(\n",
    "    'enrollment',\n",
    "    Field('student_id', 'reference student'),\n",
    "    Field('offering_id', 'reference offering'),\n",
    "    Field('for_letter_grade', 'boolean'),\n",
    ")\n",
    "\n",
    "dbr.commit()"
   ]
  },
  {
   "cell_type": "code",
   "execution_count": null,
   "metadata": {},
   "outputs": [],
   "source": []
  }
 ],
 "metadata": {
  "kernelspec": {
   "display_name": "cse183",
   "language": "python",
   "name": "python3"
  },
  "language_info": {
   "codemirror_mode": {
    "name": "ipython",
    "version": 3
   },
   "file_extension": ".py",
   "mimetype": "text/x-python",
   "name": "python",
   "nbconvert_exporter": "python",
   "pygments_lexer": "ipython3",
   "version": "3.12.4"
  }
 },
 "nbformat": 4,
 "nbformat_minor": 2
}
